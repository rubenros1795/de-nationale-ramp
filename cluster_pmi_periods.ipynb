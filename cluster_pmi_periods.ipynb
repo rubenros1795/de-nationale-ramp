{
 "cells": [
  {
   "cell_type": "code",
   "execution_count": 29,
   "metadata": {},
   "outputs": [],
   "source": [
    "import os\n",
    "import numpy as np\n",
    "import matplotlib.pyplot as plt\n",
    "import pandas as pd\n",
    "import glob\n",
    "from pattern.nl import parse, split\n",
    "from collections import Counter\n",
    "from gensim.models import KeyedVectors\n",
    "# Need the interactive Tools for Matplotlib\n",
    "import numpy as np\n",
    "import matplotlib.pyplot as plt\n",
    "import pandas as pd\n",
    "import requests\n",
    "from adjustText import adjust_text\n",
    "from pylab import plot,show\n",
    "from numpy import vstack,array\n",
    "from numpy.random import rand\n",
    "import math\n",
    "import numpy as np\n",
    "import matplotlib.pyplot as plt\n",
    "from tqdm import tqdm\n",
    "from sklearn.cluster import AffinityPropagation\n",
    "from itertools import cycle\n",
    "from scipy.cluster.vq import kmeans,vq\n"
   ]
  },
  {
   "cell_type": "code",
   "execution_count": 7,
   "metadata": {},
   "outputs": [],
   "source": [
    "os.chdir('E:/txt')\n",
    "df = pd.read_csv('pmi-df-rampen-5yi.csv')\n",
    "m1 = KeyedVectors.load('model_nl_1760.w2v')\n",
    "m2 = KeyedVectors.load('model_nl_1780.w2v')\n",
    "m3 = KeyedVectors.load('model_nl_1800.w2v')\n",
    "m4 = KeyedVectors.load('model_nl_1820.w2v')"
   ]
  },
  {
   "cell_type": "code",
   "execution_count": 31,
   "metadata": {},
   "outputs": [
    {
     "name": "stdout",
     "output_type": "stream",
     "text": [
      "created list with 232 words\n"
     ]
    },
    {
     "name": "stderr",
     "output_type": "stream",
     "text": [
      "C:\\ProgramData\\Anaconda3\\lib\\site-packages\\ipykernel_launcher.py:29: DeprecationWarning: Call to deprecated `similarity` (Method will be removed in 4.0.0, use self.wv.similarity() instead).\n",
      "C:\\ProgramData\\Anaconda3\\lib\\site-packages\\gensim\\matutils.py:737: FutureWarning: Conversion of the second argument of issubdtype from `int` to `np.signedinteger` is deprecated. In future, it will be treated as `np.int32 == np.dtype(int).type`.\n",
      "  if np.issubdtype(vec.dtype, np.int):\n"
     ]
    }
   ],
   "source": [
    "m = MatrixPeriod(df,m4,1820,1850)"
   ]
  },
  {
   "cell_type": "code",
   "execution_count": 33,
   "metadata": {},
   "outputs": [],
   "source": [
    "m.to_csv('m20-50.csv')"
   ]
  },
  {
   "cell_type": "code",
   "execution_count": 25,
   "metadata": {},
   "outputs": [],
   "source": [
    "def MatrixPeriod(df,model,start_year,end_year):\n",
    "    \n",
    "    df = pd.melt(df, id_vars=['gram'])\n",
    "    df['year'] = df['variable'].astype(int)\n",
    "    df = df[(df['year'] >= start_year) & (df['year'] <= end_year)]\n",
    "    df['year'] = 'tot_count'\n",
    "    df = df.groupby(['gram']).sum()\n",
    "    df = df[df['value'] > 0]\n",
    "    list_words = list(df.index)\n",
    "    \n",
    "    \n",
    "    dmx = DistanceMatrix(list_words, model)\n",
    "    dmx[dmx < 0] =0\n",
    "    return dmx\n",
    "\n",
    "def DistanceMatrix(list_words, model):\n",
    "    \n",
    "    list_words = [w for w in list_words if w in list(model.wv.vocab.keys())]\n",
    "    print(\"created list with \" + str(len(list_words)) + \" words\")\n",
    "\n",
    "    total_list = list()\n",
    "    \n",
    "    for word in list_words:\n",
    "        \n",
    "        list_word = list()\n",
    "        \n",
    "        for term in list_words:\n",
    "            #tmp = model.distance(word, term)\n",
    "            tmp = model.similarity(word, term)\n",
    "\n",
    "            list_word.append(tmp)\n",
    "        \n",
    "        total_list.append(list_word)\n",
    "    df = pd.DataFrame(total_list, columns = list_words, index = list_words)\n",
    "    return df"
   ]
  },
  {
   "cell_type": "code",
   "execution_count": 218,
   "metadata": {},
   "outputs": [],
   "source": []
  },
  {
   "cell_type": "code",
   "execution_count": null,
   "metadata": {},
   "outputs": [],
   "source": []
  }
 ],
 "metadata": {
  "kernelspec": {
   "display_name": "Python 3",
   "language": "python",
   "name": "python3"
  },
  "language_info": {
   "codemirror_mode": {
    "name": "ipython",
    "version": 3
   },
   "file_extension": ".py",
   "mimetype": "text/x-python",
   "name": "python",
   "nbconvert_exporter": "python",
   "pygments_lexer": "ipython3",
   "version": "3.6.5"
  }
 },
 "nbformat": 4,
 "nbformat_minor": 2
}
