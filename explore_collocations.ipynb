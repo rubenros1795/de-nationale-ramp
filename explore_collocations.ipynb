{
 "cells": [
  {
   "cell_type": "code",
   "execution_count": 17,
   "metadata": {},
   "outputs": [],
   "source": [
    "import os\n",
    "import numpy as np\n",
    "import matplotlib.pyplot as plt\n",
    "import pandas as pd\n",
    "import glob\n",
    "from pattern.nl import parse, split\n",
    "from collections import Counter\n",
    "from gensim.models import KeyedVectors\n",
    "# Need the interactive Tools for Matplotlib\n",
    "import numpy as np\n",
    "import matplotlib.pyplot as plt\n",
    "import pandas as pd\n",
    "import requests\n",
    "from adjustText import adjust_text\n",
    "from pylab import plot,show\n",
    "from numpy import vstack,array\n",
    "from numpy.random import rand\n",
    "import math\n",
    "import numpy as np\n",
    "import matplotlib.pyplot as plt\n",
    "from tqdm import tqdm\n",
    "import seaborn as sns\n",
    "from random import sample\n",
    "from numpy import vstack,array\n",
    "from numpy.random import rand\n",
    "from scipy.cluster.vq import kmeans,vq\n",
    "import seaborn as sns\n",
    "import statistics\n",
    "\n",
    "\n",
    "stopz = 'http://rubenros.nl/wp-content/uploads/2019/08/stopwords-nl.txt'\n",
    "req = requests.get(stopz)\n",
    "stopz = str(req.content)\n",
    "stopz = stopz.split('\\\\n')"
   ]
  },
  {
   "cell_type": "code",
   "execution_count": 42,
   "metadata": {},
   "outputs": [],
   "source": [
    "os.chdir('C:/Users/Ruben/Documents/Artikelen/Disasters/output-data')"
   ]
  },
  {
   "cell_type": "code",
   "execution_count": 44,
   "metadata": {},
   "outputs": [
    {
     "data": {
      "text/html": [
       "<div>\n",
       "<style scoped>\n",
       "    .dataframe tbody tr th:only-of-type {\n",
       "        vertical-align: middle;\n",
       "    }\n",
       "\n",
       "    .dataframe tbody tr th {\n",
       "        vertical-align: top;\n",
       "    }\n",
       "\n",
       "    .dataframe thead th {\n",
       "        text-align: right;\n",
       "    }\n",
       "</style>\n",
       "<table border=\"1\" class=\"dataframe\">\n",
       "  <thead>\n",
       "    <tr style=\"text-align: right;\">\n",
       "      <th></th>\n",
       "      <th>Unnamed: 0</th>\n",
       "      <th>gram</th>\n",
       "      <th>1750</th>\n",
       "      <th>1765</th>\n",
       "      <th>1780</th>\n",
       "      <th>1795</th>\n",
       "      <th>1810</th>\n",
       "      <th>1825</th>\n",
       "      <th>1840</th>\n",
       "    </tr>\n",
       "  </thead>\n",
       "  <tbody>\n",
       "    <tr>\n",
       "      <th>0</th>\n",
       "      <td>0</td>\n",
       "      <td>0111</td>\n",
       "      <td>3.821809</td>\n",
       "      <td>4.165481</td>\n",
       "      <td>0.0</td>\n",
       "      <td>0.000000</td>\n",
       "      <td>4.465825</td>\n",
       "      <td>5.028104</td>\n",
       "      <td>6.000164</td>\n",
       "    </tr>\n",
       "    <tr>\n",
       "      <th>1</th>\n",
       "      <td>1</td>\n",
       "      <td>011s</td>\n",
       "      <td>0.000000</td>\n",
       "      <td>0.000000</td>\n",
       "      <td>0.0</td>\n",
       "      <td>0.000000</td>\n",
       "      <td>6.209168</td>\n",
       "      <td>0.000000</td>\n",
       "      <td>0.000000</td>\n",
       "    </tr>\n",
       "    <tr>\n",
       "      <th>2</th>\n",
       "      <td>2</td>\n",
       "      <td>100000</td>\n",
       "      <td>0.000000</td>\n",
       "      <td>0.000000</td>\n",
       "      <td>0.0</td>\n",
       "      <td>0.000000</td>\n",
       "      <td>0.000000</td>\n",
       "      <td>4.931735</td>\n",
       "      <td>0.000000</td>\n",
       "    </tr>\n",
       "    <tr>\n",
       "      <th>3</th>\n",
       "      <td>3</td>\n",
       "      <td>11000</td>\n",
       "      <td>0.000000</td>\n",
       "      <td>0.000000</td>\n",
       "      <td>0.0</td>\n",
       "      <td>0.000000</td>\n",
       "      <td>6.354187</td>\n",
       "      <td>0.000000</td>\n",
       "      <td>0.000000</td>\n",
       "    </tr>\n",
       "    <tr>\n",
       "      <th>4</th>\n",
       "      <td>4</td>\n",
       "      <td>1111</td>\n",
       "      <td>0.000000</td>\n",
       "      <td>5.944484</td>\n",
       "      <td>0.0</td>\n",
       "      <td>6.045252</td>\n",
       "      <td>0.000000</td>\n",
       "      <td>0.000000</td>\n",
       "      <td>0.000000</td>\n",
       "    </tr>\n",
       "  </tbody>\n",
       "</table>\n",
       "</div>"
      ],
      "text/plain": [
       "   Unnamed: 0    gram      1750      1765  1780      1795      1810      1825  \\\n",
       "0           0    0111  3.821809  4.165481   0.0  0.000000  4.465825  5.028104   \n",
       "1           1    011s  0.000000  0.000000   0.0  0.000000  6.209168  0.000000   \n",
       "2           2  100000  0.000000  0.000000   0.0  0.000000  0.000000  4.931735   \n",
       "3           3   11000  0.000000  0.000000   0.0  0.000000  6.354187  0.000000   \n",
       "4           4    1111  0.000000  5.944484   0.0  6.045252  0.000000  0.000000   \n",
       "\n",
       "       1840  \n",
       "0  6.000164  \n",
       "1  0.000000  \n",
       "2  0.000000  \n",
       "3  0.000000  \n",
       "4  0.000000  "
      ]
     },
     "execution_count": 44,
     "metadata": {},
     "output_type": "execute_result"
    }
   ],
   "source": [
    "df = pd.read_csv('pmi-df-rampen-sli10-15y-w18.csv')\n",
    "df.head()"
   ]
  },
  {
   "cell_type": "code",
   "execution_count": 45,
   "metadata": {},
   "outputs": [],
   "source": [
    "os.chdir('E:/Rampen/Models/sliding')\n",
    "list_models = sorted(glob.glob('*.w2v'))"
   ]
  },
  {
   "cell_type": "code",
   "execution_count": 47,
   "metadata": {
    "scrolled": true
   },
   "outputs": [
    {
     "name": "stdout",
     "output_type": "stream",
     "text": [
      "440\n"
     ]
    },
    {
     "name": "stderr",
     "output_type": "stream",
     "text": [
      "C:\\ProgramData\\Anaconda3\\lib\\site-packages\\ipykernel_launcher.py:3: DeprecationWarning: Call to deprecated `wv` (Attribute will be removed in 4.0.0, use self instead).\n",
      "  This is separate from the ipykernel package so we can avoid doing imports until\n"
     ]
    },
    {
     "name": "stdout",
     "output_type": "stream",
     "text": [
      "created list with 119 words\n"
     ]
    },
    {
     "name": "stderr",
     "output_type": "stream",
     "text": [
      "C:\\ProgramData\\Anaconda3\\lib\\site-packages\\gensim\\matutils.py:737: FutureWarning: Conversion of the second argument of issubdtype from `int` to `np.signedinteger` is deprecated. In future, it will be treated as `np.int32 == np.dtype(int).type`.\n",
      "  if np.issubdtype(vec.dtype, np.int):\n"
     ]
    },
    {
     "name": "stdout",
     "output_type": "stream",
     "text": [
      "748\n",
      "created list with 220 words\n",
      "755\n",
      "created list with 119 words\n",
      "643\n",
      "created list with 111 words\n"
     ]
    }
   ],
   "source": [
    "#d = []\n",
    "\n",
    "for c in [1765,1795,1825,1840]:\n",
    "    t = df[df[str(c)] > 7]\n",
    "    list_words = list(t['gram'])\n",
    "    print(len(list_words))\n",
    "    \n",
    "    year = int(c)\n",
    "    if year < 1780:\n",
    "        model = KeyedVectors.load(list_models[0])\n",
    "    if year > 1779 and year < 1810:\n",
    "        model = KeyedVectors.load(list_models[1])\n",
    "    if year > 1809 and year < 1830:\n",
    "        model = KeyedVectors.load(list_models[2])\n",
    "    if year > 1829:\n",
    "        model = KeyedVectors.load(list_models[3])\n",
    "    \n",
    "    dm = DistanceMatrix(list_words,model)\n",
    "    fn = \"rampen\" + str(c) + \"_collocation_matrix.csv\"\n",
    "    dm.to_csv(fn)\n",
    "    #d.update({year,dm}) #statistics.pstdev(dm.values.tolist()[0])"
   ]
  },
  {
   "cell_type": "code",
   "execution_count": 35,
   "metadata": {
    "collapsed": true
   },
   "outputs": [
    {
     "data": {
      "text/plain": [
       "<matplotlib.axes._subplots.AxesSubplot at 0x1f98b4f7128>"
      ]
     },
     "execution_count": 35,
     "metadata": {},
     "output_type": "execute_result"
    },
    {
     "data": {
      "image/png": "[encoded data removed]",
      "text/plain": [
       "<Figure size 432x288 with 1 Axes>"
      ]
     },
     "metadata": {},
     "output_type": "display_data"
    }
   ],
   "source": [
    "import math\n",
    "d= pd.DataFrame(d,columns=['x','y'])\n",
    "d['y'] = np.log(d['y'])\n",
    "d.plot(x='x',y='y')"
   ]
  },
  {
   "cell_type": "code",
   "execution_count": 12,
   "metadata": {},
   "outputs": [],
   "source": [
    "def DistanceMatrix(list_words, model):\n",
    "    \n",
    "    list_words = [w for w in list_words if w in list(model.wv.vocab.keys())]\n",
    "    print(\"created list with \" + str(len(list_words)) + \" words\")\n",
    "\n",
    "    total_list = list()\n",
    "    \n",
    "    for word in list_words:\n",
    "        \n",
    "        list_word = list()\n",
    "        \n",
    "        for term in list_words:\n",
    "            #tmp = model.distance(word, term)\n",
    "            tmp = model.similarity(word, term)\n",
    "\n",
    "            list_word.append(tmp)\n",
    "        \n",
    "        total_list.append(list_word)\n",
    "    df = pd.DataFrame(total_list, columns = list_words, index = list_words)\n",
    "    return df\n",
    "\n",
    "def ClusterWord(matrix, k):\n",
    "    centroids,_ = kmeans(matrix,k)\n",
    "    idx,_ = vq(matrix,centroids)\n",
    "    \n",
    "    return dict(zip(list(matrix.index), idx))\n",
    "\n",
    "\n",
    "def GetClusterNames(clus_dict, df, range_df):\n",
    "\n",
    "    \n",
    "    df = df[df.gram.isin([k for k,v in clus_dict.items()])]\n",
    "    \n",
    "    dict_topwords_cluster = dict()\n",
    "    \n",
    "    for cluster_id in list(set([v for k,v in clus_dict.items()])):\n",
    "        list_words_cluster = [k for k,v in clus_dict.items() if v == cluster_id]\n",
    "        print(str(cluster_id) + \": \" + \", \".join(list_words_cluster))\n",
    "        print('=======')\n",
    "        \n",
    "        tmpdf = df[df.gram.isin(list_words_cluster)]\n",
    "        tmpdf['word_sum'] = tmpdf.iloc[:,1:len(tmpdf.columns)].sum(axis=1)\n",
    "        \n",
    "        topwords = list(tmpdf.nlargest(6,'word_sum').gram)\n",
    "        topwords = \" | \".join(topwords)\n",
    "        dict_topwords_cluster.update({str(cluster_id):topwords})\n",
    "        \n",
    "        \n",
    "    return dict_topwords_cluster"
   ]
  },
  {
   "cell_type": "code",
   "execution_count": null,
   "metadata": {},
   "outputs": [],
   "source": []
  }
 ],
 "metadata": {
  "kernelspec": {
   "display_name": "Python 3",
   "language": "python",
   "name": "python3"
  },
  "language_info": {
   "codemirror_mode": {
    "name": "ipython",
    "version": 3
   },
   "file_extension": ".py",
   "mimetype": "text/x-python",
   "name": "python",
   "nbconvert_exporter": "python",
   "pygments_lexer": "ipython3",
   "version": "3.6.5"
  }
 },
 "nbformat": 4,
 "nbformat_minor": 2
}
